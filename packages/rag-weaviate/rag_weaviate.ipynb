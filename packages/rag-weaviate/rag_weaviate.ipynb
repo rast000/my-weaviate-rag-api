{
 "cells": [
  {
   "attachments": {},
   "cell_type": "markdown",
   "id": "8692a430",
   "metadata": {},
   "source": [
    "# Run Template\n",
    "\n",
    "In `server.py`, set -\n",
    "```\n",
    "add_routes(app, chain_ext, path=\"/rag-weaviate\")\n",
    "```"
   ]
  },
  {
   "cell_type": "code",
   "execution_count": 34,
   "id": "41db5e30",
   "metadata": {},
   "outputs": [
    {
     "data": {
      "text/plain": [
       "{'answer': 'In .NET 7, High DPI rendering with PerMonitorV2 has been improved, but it is disabled by default and needs to be enabled through configuration. In .NET 8, a new data binding engine modeled after WPF has been fully enabled, making it easier to implement MVVM design principles in Windows Forms. These new data binding features are in preview for .NET 7 and more work on this feature will happen in .NET 8.',\n",
       " 'context': 'What\\'s new for .NET 7 (Windows Forms\\n.NET)\\nArticle •02/14/2023\\nThis article describes some of the new Windows Forms features and enhancements in\\n.NET 7.\\nThere are a few breaking changes you should be aware of when migrating from .NET\\nFramework to .NET 7. For more information, see Breaking changes in Windows Forms .\\nHigh DPI rendering with PerMonitorV2  has been improved:\\nCorrectly scale nested controls. For example, a button that\\'s in a panel, which is\\nplaced on a tab page.\\nScale Form.MaximumSize  and Form.MinimumSize  properties based on the current\\nmonitor DPI settings for applications that run ApplicationHighDpiMode set to\\nPerMonitorV2.\\nIn .NET 7, this feature is disabled by default and you must opt in to receive this\\nchange. S tarting with .NET 8, this feature is enabled by default and you need to opt\\nout of it to revert to the previous behavior.\\nTo enable feature, set the configProperties setting in runtimec onfig.json:\\nJSONHigh DPI improvements\\n{\\n  \"runtimeOptions\" : {\\n\\nWhat\\'s new for .NET 8 (Windows Forms\\n.NET)\\nArticle •12/15/2023\\nThis article describes some of the new Windows Forms features and enhancements in\\n.NET 8.\\nThere are a few breaking changes you should be aware of when migrating from .NET\\nFramework to .NET 8. For more information, see Breaking changes in Windows Forms .\\nA new data binding engine was in preview with .NET 7, and is now fully enabled in .NET\\n8. Though not as extensive as the existing Windows Forms data binding engine, this new\\nengine is modeled after WPF, which makes it easier to implement MVVM design\\nprinciples.\\nThe enhanced data binding capabilities make it simpler to fully utilize the MVVM pattern\\nand employ object-relational mappers from ViewModels in Windows Forms. This\\nreduces the amount of code in code-behind files. More importantly, it enables code\\nsharing between Windows Forms and other .NET GUI frameworks like WPF, UWP/WinUI,\\nand .NET MA UI. It\\'s important to note that while the previously mentioned GUI\\n\\nWindows Forms and other .NET GUI frameworks such as WPF, UWP/WinUI, and .NET\\nMAUI. And to clarify a commonly asked question, there aren\\'t any plans to introduce\\nXAML in Windows Forms.\\nThese new data binding features are in preview for .NET 7, and more work on this\\nfeature will happen in .NET 8.\\nTo enable the new binding, add the EnablePreviewFeatures setting to your project file.\\nThis is supported in both C# and Visual Basic.\\nXML\\nThe following code snippet demonstrates the new properties, events, and methods\\nadded to the various classes in Windows Forms. Even though the following code\\nexample is in C#, it also applies to Visual Basic.\\nC#<Project Sdk=\"Microsoft.NET.Sdk\" >\\n  <!-- other settings -->\\n  <PropertyGroup >\\n    <EnablePreviewFeatures >true</EnablePreviewFeatures >\\n  </PropertyGroup >\\n</Project>\\npublic class Control  {\\n    [BindableAttribute(true) ]\\n    public virtual object DataContext { get; set; }\\n    [BrowsableAttribute(true) ]\\n\\nTell us about y our PDF experience.\\nWindows Forms documentation\\nLearn about using Windows Forms, an open-source, graphical user interface for\\nWindows, on .NET.\\nLearn about Windows Forms\\nｈWHA T\\'S NE W\\nWhat\\'s new\\nｅOVERVIE W\\nWindows Forms overview\\nｇTUTORIAL\\nCreate a new app\\nMigrate from .NET Framework\\nａDOWNL OAD\\nVisual S tudio 2022\\nContr ols\\nｅOVERVIE W\\nAbout controls\\nｐCONCEPT\\nLayout\\nｃHOW-T O GUIDE\\nAdd a control\\nAdd access (shortcut) keys'}"
      ]
     },
     "execution_count": 34,
     "metadata": {},
     "output_type": "execute_result"
    }
   ],
   "source": [
    "from langserve.client import RemoteRunnable\n",
    "document1 = \"f074ad77-f28b-4032-a948-0072592a1459\"\n",
    "document2 = \"3393f0ac-e365-45b1-990a-c883c5cbd60b\"\n",
    "rag_app_weaviate = RemoteRunnable(\"http://localhost:8000/rag-weaviate\")\n",
    "rag_app_weaviate.invoke(\"What is new in .NET 7\", {\"configurable\": {\"document_id\": document1}})"
   ]
  },
  {
   "cell_type": "code",
   "execution_count": 35,
   "id": "200d2fd8",
   "metadata": {
    "dotnet_interactive": {
     "language": "csharp"
    },
    "polyglot_notebook": {
     "kernelName": "csharp"
    }
   },
   "outputs": [
    {
     "data": {
      "text/plain": [
       "{'answer': \"I don't know.\",\n",
       " 'context': 'Input-Input Layer5\\nThe\\nLaw\\nwill\\nnever\\nbe\\nperfect\\n,\\nbut\\nits\\napplication\\nshould\\nbe\\njust\\n-\\nthis\\nis\\nwhat\\nwe\\nare\\nmissing\\n,\\nin\\nmy\\nopinion\\n.\\n<EOS>\\n<pad>\\nThe\\nLaw\\nwill\\nnever\\nbe\\nperfect\\n,\\nbut\\nits\\napplication\\nshould\\nbe\\njust\\n-\\nthis\\nis\\nwhat\\nwe\\nare\\nmissing\\n,\\nin\\nmy\\nopinion\\n.\\n<EOS>\\n<pad>\\nInput-Input Layer5\\nThe\\nLaw\\nwill\\nnever\\nbe\\nperfect\\n,\\nbut\\nits\\napplication\\nshould\\nbe\\njust\\n-\\nthis\\nis\\nwhat\\nwe\\nare\\nmissing\\n,\\nin\\nmy\\nopinion\\n.\\n<EOS>\\n<pad>\\nThe\\nLaw\\nwill\\nnever\\nbe\\nperfect\\n,\\nbut\\nits\\napplication\\nshould\\nbe\\njust\\n-\\nthis\\nis\\nwhat\\nwe\\nare\\nmissing\\n,\\nin\\nmy\\nopinion\\n.\\n<EOS>\\n<pad>Figure 4: Two attention heads, also in layer 5 of 6, apparently involved in anaphora resolution. Top:\\nFull attentions for head 5. Bottom: Isolated attentions from just the word ‘its’ for attention heads 5\\nand 6. Note that the attentions are very sharp for this word.\\n14\\n\\nInput-Input Layer5\\nThe\\nLaw\\nwill\\nnever\\nbe\\nperfect\\n,\\nbut\\nits\\napplication\\nshould\\nbe\\njust\\n-\\nthis\\nis\\nwhat\\nwe\\nare\\nmissing\\n,\\nin\\nmy\\nopinion\\n.\\n<EOS>\\n<pad>\\nThe\\nLaw\\nwill\\nnever\\nbe\\nperfect\\n,\\nbut\\nits\\napplication\\nshould\\nbe\\njust\\n-\\nthis\\nis\\nwhat\\nwe\\nare\\nmissing\\n,\\nin\\nmy\\nopinion\\n.\\n<EOS>\\n<pad>\\nInput-Input Layer5\\nThe\\nLaw\\nwill\\nnever\\nbe\\nperfect\\n,\\nbut\\nits\\napplication\\nshould\\nbe\\njust\\n-\\nthis\\nis\\nwhat\\nwe\\nare\\nmissing\\n,\\nin\\nmy\\nopinion\\n.\\n<EOS>\\n<pad>\\nThe\\nLaw\\nwill\\nnever\\nbe\\nperfect\\n,\\nbut\\nits\\napplication\\nshould\\nbe\\njust\\n-\\nthis\\nis\\nwhat\\nwe\\nare\\nmissing\\n,\\nin\\nmy\\nopinion\\n.\\n<EOS>\\n<pad>Figure 5: Many of the attention heads exhibit behaviour that seems related to the structure of the\\nsentence. We give two such examples above, from two different heads from the encoder self-attention\\nat layer 5 of 6. The heads clearly learned to perform different tasks.\\n15\\n\\nAttention Visualizations\\nInput-Input Layer5\\nIt\\nis\\nin\\nthis\\nspirit\\nthat\\na\\nmajority\\nof\\nAmerican\\ngovernments\\nhave\\npassed\\nnew\\nlaws\\nsince\\n2009\\nmaking\\nthe\\nregistration\\nor\\nvoting\\nprocess\\nmore\\ndifficult\\n.\\n<EOS>\\n<pad>\\n<pad>\\n<pad>\\n<pad>\\n<pad>\\n<pad>\\nIt\\nis\\nin\\nthis\\nspirit\\nthat\\na\\nmajority\\nof\\nAmerican\\ngovernments\\nhave\\npassed\\nnew\\nlaws\\nsince\\n2009\\nmaking\\nthe\\nregistration\\nor\\nvoting\\nprocess\\nmore\\ndifficult\\n.\\n<EOS>\\n<pad>\\n<pad>\\n<pad>\\n<pad>\\n<pad>\\n<pad>\\nFigure 3: An example of the attention mechanism following long-distance dependencies in the\\nencoder self-attention in layer 5 of 6. Many of the attention heads attend to a distant dependency of\\nthe verb ‘making’, completing the phrase ‘making...more difficult’. Attentions here shown only for\\nthe word ‘making’. Different colors represent different heads. Best viewed in color.\\n13\\n\\nTable 2: The Transformer achieves better BLEU scores than previous state-of-the-art models on the\\nEnglish-to-German and English-to-French newstest2014 tests at a fraction of the training cost.\\nModelBLEU Training Cost (FLOPs)\\nEN-DE EN-FR EN-DE EN-FR\\nByteNet [18] 23.75\\nDeep-Att + PosUnk [39] 39.2 1.0·1020\\nGNMT + RL [38] 24.6 39.92 2.3·10191.4·1020\\nConvS2S [9] 25.16 40.46 9.6·10181.5·1020\\nMoE [32] 26.03 40.56 2.0·10191.2·1020\\nDeep-Att + PosUnk Ensemble [39] 40.4 8.0·1020\\nGNMT + RL Ensemble [38] 26.30 41.16 1.8·10201.1·1021\\nConvS2S Ensemble [9] 26.36 41.29 7.7·10191.2·1021\\nTransformer (base model) 27.3 38.1 3.3·1018\\nTransformer (big) 28.4 41.8 2.3·1019\\nResidual Dropout We apply dropout [ 33] to the output of each sub-layer, before it is added to the\\nsub-layer input and normalized. In addition, we apply dropout to the sums of the embeddings and the\\npositional encodings in both the encoder and decoder stacks. For the base model, we use a rate of\\nPdrop= 0.1.'}"
      ]
     },
     "execution_count": 35,
     "metadata": {},
     "output_type": "execute_result"
    }
   ],
   "source": [
    "rag_app_weaviate.invoke(\"What is new in .NET 7\", {\"configurable\": {\"document_id\": document2}})"
   ]
  }
 ],
 "metadata": {
  "kernelspec": {
   "display_name": "Python 3",
   "language": "python",
   "name": "python3"
  },
  "language_info": {
   "codemirror_mode": {
    "name": "ipython",
    "version": 3
   },
   "file_extension": ".py",
   "mimetype": "text/x-python",
   "name": "python",
   "nbconvert_exporter": "python",
   "pygments_lexer": "ipython3",
   "version": "3.12.3"
  },
  "polyglot_notebook": {
   "kernelInfo": {
    "defaultKernelName": "csharp",
    "items": [
     {
      "aliases": [],
      "name": "csharp"
     }
    ]
   }
  }
 },
 "nbformat": 4,
 "nbformat_minor": 5
}
