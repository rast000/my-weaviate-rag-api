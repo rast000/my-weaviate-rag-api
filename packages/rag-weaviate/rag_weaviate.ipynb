{
 "cells": [
  {
   "attachments": {},
   "cell_type": "markdown",
   "id": "8692a430",
   "metadata": {},
   "source": [
    "# Run Template\n",
    "\n",
    "In `server.py`, set -\n",
    "```\n",
    "add_routes(app, chain_ext, path=\"/rag-weaviate\")\n",
    "```"
   ]
  },
  {
   "cell_type": "code",
   "execution_count": 2,
   "id": "41db5e30",
   "metadata": {},
   "outputs": [
    {
     "data": {
      "text/plain": [
       "'In .NET 7, High DPI rendering with PerMonitorV2 has been improved, scaling nested controls and Form.MaximumSize/MinimumSize properties based on monitor DPI settings. This feature is disabled by default in .NET 7 but will be enabled by default in .NET 8, requiring opting out for the previous behavior. .NET 7 introduces a new data binding engine, in preview, which is fully enabled in .NET 8, making it easier to implement MVVM design principles and reduce code in code-behind files.'"
      ]
     },
     "execution_count": 2,
     "metadata": {},
     "output_type": "execute_result"
    }
   ],
   "source": [
    "from langserve.client import RemoteRunnable\n",
    "document1 = \"f074ad77-f28b-4032-a948-0072592a1459\"\n",
    "document2 = \"463b6f20-31eb-4c14-8473-1c3e2ac9252d\"\n",
    "rag_app_weaviate = RemoteRunnable(\"http://localhost:8000/rag-weaviate\")\n",
    "rag_app_weaviate.invoke(\"What is new in .NET 7\", {\"configurable\": {\"document_id\": document1}})"
   ]
  },
  {
   "cell_type": "code",
   "execution_count": 3,
   "id": "200d2fd8",
   "metadata": {
    "dotnet_interactive": {
     "language": "csharp"
    },
    "polyglot_notebook": {
     "kernelName": "csharp"
    }
   },
   "outputs": [
    {
     "data": {
      "text/plain": [
       "\"I don't know.\""
      ]
     },
     "execution_count": 3,
     "metadata": {},
     "output_type": "execute_result"
    }
   ],
   "source": [
    "rag_app_weaviate.invoke(\"What is new in .NET 7\", {\"configurable\": {\"document_id\": document2}})"
   ]
  }
 ],
 "metadata": {
  "kernelspec": {
   "display_name": "Python 3",
   "language": "python",
   "name": "python3"
  },
  "language_info": {
   "codemirror_mode": {
    "name": "ipython",
    "version": 3
   },
   "file_extension": ".py",
   "mimetype": "text/x-python",
   "name": "python",
   "nbconvert_exporter": "python",
   "pygments_lexer": "ipython3",
   "version": "3.12.3"
  },
  "polyglot_notebook": {
   "kernelInfo": {
    "defaultKernelName": "csharp",
    "items": [
     {
      "aliases": [],
      "name": "csharp"
     }
    ]
   }
  }
 },
 "nbformat": 4,
 "nbformat_minor": 5
}
